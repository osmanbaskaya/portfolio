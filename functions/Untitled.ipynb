{
 "cells": [
  {
   "cell_type": "code",
   "execution_count": 13,
   "id": "905522fd-28ec-41bd-a352-b72640cd7d2d",
   "metadata": {},
   "outputs": [],
   "source": [
    "import requests\n",
    "from bs4 import BeautifulSoup\n",
    "from pyquery import PyQuery as pq\n",
    "\n"
   ]
  },
  {
   "cell_type": "code",
   "execution_count": 99,
   "id": "bdb17901-7696-4f77-bfed-3fbeffd16d4f",
   "metadata": {},
   "outputs": [
    {
     "data": {
      "text/plain": [
       "[{'author': 'Patton, Jeff',\n",
       "  'title': 'User Story Mapping: Discover the Whole Story, Build the Right Product'},\n",
       " {'author': 'Winters, Titus',\n",
       "  'title': 'Software Engineering at Google: Lessons Learned from Programming Over Time'},\n",
       " {'author': 'Richards, Mark',\n",
       "  'title': 'Fundamentals of Software Architecture: An Engineering Approach'}]"
      ]
     },
     "execution_count": 99,
     "metadata": {},
     "output_type": "execute_result"
    }
   ],
   "source": [
    "resp = requests.get(url)\n",
    "soup = BeautifulSoup(resp.text)\n",
    "\n",
    "if resp.status_code != 200:\n",
    "    pass\n",
    "\n",
    "url = \"https://www.goodreads.com/review/list/18882054-osman-ba-kaya?shelf=currently-reading\"\n",
    "\n",
    "titles = [td.find(\"a\")['title'] for td in soup.find_all(\"td\", {\"class\": \"field title\"})]\n",
    "authors = [td.find(\"a\").text for td in soup.find_all(\"td\", {\"class\": \"field author\"})]\n",
    "[{\"author\": a, \"title\": t} for t, a in zip(titles, authors)]"
   ]
  },
  {
   "cell_type": "code",
   "execution_count": 7,
   "id": "e75eba03-0bda-43d4-82a2-9a52b3a8b1b1",
   "metadata": {},
   "outputs": [
    {
     "data": {
      "text/plain": [
       "200"
      ]
     },
     "execution_count": 7,
     "metadata": {},
     "output_type": "execute_result"
    }
   ],
   "source": [
    "resp.status_code"
   ]
  },
  {
   "cell_type": "code",
   "execution_count": 87,
   "id": "86e5f7f8-0440-4bec-9b40-fc5f8210ecac",
   "metadata": {},
   "outputs": [],
   "source": []
  },
  {
   "cell_type": "code",
   "execution_count": 88,
   "id": "23ad044e-1b2c-46ef-b7ce-d080936b2a09",
   "metadata": {},
   "outputs": [],
   "source": []
  },
  {
   "cell_type": "code",
   "execution_count": 95,
   "id": "bb9661cf-a4a1-4c68-a24a-6aae6ab4edab",
   "metadata": {},
   "outputs": [],
   "source": []
  },
  {
   "cell_type": "code",
   "execution_count": 96,
   "id": "877614fc-c1c8-4849-b18c-552ee6463191",
   "metadata": {},
   "outputs": [
    {
     "data": {
      "text/plain": [
       "['Patton, Jeff', 'Winters, Titus', 'Richards, Mark']"
      ]
     },
     "execution_count": 96,
     "metadata": {},
     "output_type": "execute_result"
    }
   ],
   "source": []
  },
  {
   "cell_type": "code",
   "execution_count": 94,
   "id": "06002992-3f32-4d3d-b52d-11fa354a407e",
   "metadata": {},
   "outputs": [
    {
     "data": {
      "text/plain": [
       "'Patton, Jeff'"
      ]
     },
     "execution_count": 94,
     "metadata": {},
     "output_type": "execute_result"
    }
   ],
   "source": [
    "a.find(\"a\").text"
   ]
  },
  {
   "cell_type": "code",
   "execution_count": 33,
   "id": "bfe8912c-73c4-4a19-82c2-9b1aedc728ad",
   "metadata": {},
   "outputs": [
    {
     "data": {
      "text/plain": [
       "<Element tbody at 0x7fe2bcd559f0>"
      ]
     },
     "execution_count": 33,
     "metadata": {},
     "output_type": "execute_result"
    }
   ],
   "source": [
    "q.get_element_by_id(\"booksBody\")"
   ]
  }
 ],
 "metadata": {
  "kernelspec": {
   "display_name": "Python 3 (ipykernel)",
   "language": "python",
   "name": "python3"
  },
  "language_info": {
   "codemirror_mode": {
    "name": "ipython",
    "version": 3
   },
   "file_extension": ".py",
   "mimetype": "text/x-python",
   "name": "python",
   "nbconvert_exporter": "python",
   "pygments_lexer": "ipython3",
   "version": "3.8.0"
  }
 },
 "nbformat": 4,
 "nbformat_minor": 5
}
